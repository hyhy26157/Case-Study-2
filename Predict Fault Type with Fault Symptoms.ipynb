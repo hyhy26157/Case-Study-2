{
 "cells": [
  {
   "cell_type": "code",
   "execution_count": 216,
   "id": "c1f3c1b1",
   "metadata": {},
   "outputs": [],
   "source": [
    "#import relevant libraries\n",
    "import pandas as pd\n",
    "import re\n",
    "import numpy as np\n",
    "import matplotlib.pyplot as plt\n",
    "from matplotlib.pyplot import figure\n",
    "import seaborn as sns"
   ]
  },
  {
   "cell_type": "code",
   "execution_count": 278,
   "id": "9c163bce",
   "metadata": {},
   "outputs": [],
   "source": [
    "#load the defect data\n",
    "dfta = pd.read_excel(r'Fault.xls', parse_dates = ['Record Date'])"
   ]
  },
  {
   "cell_type": "markdown",
   "id": "2ef751ee",
   "metadata": {},
   "source": [
    "# 1 Data Cleaning "
   ]
  },
  {
   "cell_type": "code",
   "execution_count": 279,
   "id": "75c03279",
   "metadata": {},
   "outputs": [],
   "source": [
    "#replace columns name empty space with '_'\n",
    "\n",
    "dfta.columns = dfta.columns.str.replace(\" \",\"_\")"
   ]
  },
  {
   "cell_type": "code",
   "execution_count": 280,
   "id": "e81dda59",
   "metadata": {
    "scrolled": true
   },
   "outputs": [
    {
     "name": "stdout",
     "output_type": "stream",
     "text": [
      "<class 'pandas.core.frame.DataFrame'>\n",
      "RangeIndex: 35342 entries, 0 to 35341\n",
      "Data columns (total 5 columns):\n",
      " #   Column                  Non-Null Count  Dtype         \n",
      "---  ------                  --------------  -----         \n",
      " 0   Record_Date             35342 non-null  datetime64[ns]\n",
      " 1   Activity_Type           35340 non-null  object        \n",
      " 2   Service_Number          35342 non-null  object        \n",
      " 3   Service_Fault_Symptoms  35342 non-null  object        \n",
      " 4   Fault_Group             35342 non-null  object        \n",
      "dtypes: datetime64[ns](1), object(4)\n",
      "memory usage: 1.3+ MB\n",
      "None\n"
     ]
    }
   ],
   "source": [
    "#check for data info. 2 null data on column 1.\n",
    "print(dfta.info())"
   ]
  },
  {
   "cell_type": "code",
   "execution_count": 281,
   "id": "9ea87094",
   "metadata": {},
   "outputs": [
    {
     "data": {
      "text/html": [
       "<div>\n",
       "<style scoped>\n",
       "    .dataframe tbody tr th:only-of-type {\n",
       "        vertical-align: middle;\n",
       "    }\n",
       "\n",
       "    .dataframe tbody tr th {\n",
       "        vertical-align: top;\n",
       "    }\n",
       "\n",
       "    .dataframe thead th {\n",
       "        text-align: right;\n",
       "    }\n",
       "</style>\n",
       "<table border=\"1\" class=\"dataframe\">\n",
       "  <thead>\n",
       "    <tr style=\"text-align: right;\">\n",
       "      <th></th>\n",
       "      <th>Record_Date</th>\n",
       "      <th>Activity_Type</th>\n",
       "      <th>Service_Number</th>\n",
       "      <th>Service_Fault_Symptoms</th>\n",
       "      <th>Fault_Group</th>\n",
       "    </tr>\n",
       "  </thead>\n",
       "  <tbody>\n",
       "    <tr>\n",
       "      <th>23019</th>\n",
       "      <td>2017-07-20</td>\n",
       "      <td>NaN</td>\n",
       "      <td>Nil</td>\n",
       "      <td>-</td>\n",
       "      <td>Nil</td>\n",
       "    </tr>\n",
       "    <tr>\n",
       "      <th>23278</th>\n",
       "      <td>2017-08-19</td>\n",
       "      <td>NaN</td>\n",
       "      <td>Nil</td>\n",
       "      <td>-</td>\n",
       "      <td>Nil</td>\n",
       "    </tr>\n",
       "  </tbody>\n",
       "</table>\n",
       "</div>"
      ],
      "text/plain": [
       "      Record_Date Activity_Type Service_Number Service_Fault_Symptoms  \\\n",
       "23019  2017-07-20           NaN            Nil                      -   \n",
       "23278  2017-08-19           NaN            Nil                      -   \n",
       "\n",
       "      Fault_Group  \n",
       "23019         Nil  \n",
       "23278         Nil  "
      ]
     },
     "execution_count": 281,
     "metadata": {},
     "output_type": "execute_result"
    }
   ],
   "source": [
    "#check rows for null. Since there is no Service Fault Symptoms, this is a non-service fault.\n",
    "dfta[dfta['Activity_Type'].isnull()]"
   ]
  },
  {
   "cell_type": "code",
   "execution_count": 282,
   "id": "bc5f38e3",
   "metadata": {
    "scrolled": true
   },
   "outputs": [],
   "source": [
    "#replace the Null with \"nil\"\n",
    "dfta.loc[:,'Activity_Type'].fillna('nil', inplace=True)"
   ]
  },
  {
   "cell_type": "code",
   "execution_count": 283,
   "id": "a1ca450e",
   "metadata": {},
   "outputs": [
    {
     "name": "stdout",
     "output_type": "stream",
     "text": [
      "['003' '008' '002' 'CIH' 'CAT' 'WSH' '001' '006' '007' 'nil' '004' '009']\n",
      "\n",
      "\n",
      "(31949, 5)\n"
     ]
    }
   ],
   "source": [
    "#check for maintenance activity types \n",
    "print(dfta['Activity_Type'].unique())\n",
    "print('\\n')\n",
    "\n",
    "#keep only corrective maintenance defects (Activity type 3)\n",
    "dfta3 = dfta[dfta['Activity_Type'] == '003']\n",
    "print(dfta3.shape) #fitlered ~4000 rows of data"
   ]
  },
  {
   "cell_type": "code",
   "execution_count": 284,
   "id": "f578705b",
   "metadata": {},
   "outputs": [
    {
     "data": {
      "text/plain": [
       "Nil            16474\n",
       "OBTSC396487        3\n",
       "RICTC156751        3\n",
       "OBTSC296323        2\n",
       "OBTSC302917        2\n",
       "               ...  \n",
       "OBTSC428717        1\n",
       "OBTSC428582        1\n",
       "OBTSC430789        1\n",
       "OBTSC430266        1\n",
       "RICTC185708        1\n",
       "Name: Service_Number, Length: 15289, dtype: int64"
      ]
     },
     "execution_count": 284,
     "metadata": {},
     "output_type": "execute_result"
    }
   ],
   "source": [
    "#check for maintenance service number unique counts.\n",
    "dfta3.Service_Number.value_counts()"
   ]
  },
  {
   "cell_type": "code",
   "execution_count": 285,
   "id": "6b015f7b",
   "metadata": {},
   "outputs": [
    {
     "name": "stdout",
     "output_type": "stream",
     "text": [
      "True     16474\n",
      "False    15475\n",
      "Name: Service_Number, dtype: int64\n",
      "\n",
      "\n",
      "(15475, 5)\n"
     ]
    }
   ],
   "source": [
    "#(Alternate)check for maintenance service number unique counts using .contains\n",
    "print(dfta3.Service_Number.str.contains(\"Nil\").value_counts())\n",
    "print('\\n')\n",
    "\n",
    "#remove all the non-service defects\n",
    "dfta3 = dfta3[~dfta3.Service_Number.str.contains(\"Nil\")]\n",
    "print(dfta3.shape)"
   ]
  },
  {
   "cell_type": "code",
   "execution_count": 286,
   "id": "34549a71",
   "metadata": {},
   "outputs": [
    {
     "name": "stdout",
     "output_type": "stream",
     "text": [
      "False    11858\n",
      "True      3617\n",
      "Name: Service_Fault_Symptoms, dtype: int64\n",
      "\n",
      "\n",
      "(11858, 5)\n"
     ]
    }
   ],
   "source": [
    "#check how many service defect has no symptoms reported\n",
    "print(dfta3.Service_Fault_Symptoms.str.contains(r\"-$\").value_counts())\n",
    "print('\\n')\n",
    "\n",
    "#remove all the service defect has no symptoms reported\n",
    "dfta3 = dfta3[~dfta3.Service_Fault_Symptoms.str.contains(r\"-$\")]\n",
    "print(dfta3.shape)"
   ]
  },
  {
   "cell_type": "markdown",
   "id": "5808a797",
   "metadata": {},
   "source": [
    "# 2 Exploratory Data Analysis"
   ]
  },
  {
   "cell_type": "code",
   "execution_count": 288,
   "id": "0a02a5d2",
   "metadata": {
    "scrolled": false
   },
   "outputs": [
    {
     "name": "stdout",
     "output_type": "stream",
     "text": [
      "['Fire Detection System' 'Air Condition System' 'Interior Equipment'\n",
      " 'Control System' 'Miscellaneous' 'Lighting System' 'Propulsion System'\n",
      " 'PAPIS Equipment' 'Brake System' 'Battery System' 'Audio'\n",
      " 'Saloon Door System' 'Pneumatic Supply System' 'Auxiliary System'\n",
      " 'Carbody Equipment' 'Bogie Equipment' 'Electrical System' 'Gangway'\n",
      " 'Interior System' 'Coupler System' 'Miscellaneous System' 'Nil'\n",
      " 'Saloon Air Conditioning System' 'Lighting Equipment'\n",
      " 'ALS Auxiliary Power Supply Sys' 'Emergency Door System'\n",
      " 'ALS Propulsion System' 'Pneumatic System' 'Axle/Wheel Set'\n",
      " \"Driver's Console\" 'Auxiliary Control Electronics'\n",
      " 'Communication Power Supply' 'Air Conditioning System']\n",
      "\n",
      "\n"
     ]
    },
    {
     "data": {
      "text/plain": [
       "<AxesSubplot:xlabel='Fault_Group', ylabel='index'>"
      ]
     },
     "execution_count": 288,
     "metadata": {},
     "output_type": "execute_result"
    },
    {
     "data": {
      "image/png": "[encoded data removed]",
      "text/plain": [
       "<Figure size 1080x576 with 1 Axes>"
      ]
     },
     "metadata": {
      "needs_background": "light"
     },
     "output_type": "display_data"
    }
   ],
   "source": [
    "\"\"\"\n",
    "looking at the number of fault groups,\n",
    "there are duplicates within fault groups (e.g miscellaneous and miscellaneous system). \n",
    "However, majority is dominated by Misc and Aircon faults.\n",
    "there are also Nil. Since the count is low,to remove it.\n",
    "\"\"\"\n",
    "\n",
    "print(dfta3.Fault_Group.unique())\n",
    "\n",
    "print(\"\\n\")\n",
    "\n",
    "FG = dfta3.Fault_Group.value_counts()\n",
    "FG = pd.DataFrame(data = FG)\n",
    "plt.figure(figsize = (15,8))\n",
    "FG.reset_index(inplace=True)\n",
    "sns.barplot(x=\"Fault_Group\",y = \"index\", data=FG)"
   ]
  },
  {
   "cell_type": "code",
   "execution_count": 289,
   "id": "89757326",
   "metadata": {},
   "outputs": [],
   "source": [
    "#check for the trend of miscellaneous system\n",
    "misc = dfta3.loc[(dfta3.Fault_Group == \"Miscellaneous System\")|(dfta3.Fault_Group == \"Miscellaneous\")]"
   ]
  },
  {
   "cell_type": "code",
   "execution_count": 290,
   "id": "4f9bae24",
   "metadata": {},
   "outputs": [
    {
     "data": {
      "text/plain": [
       "<AxesSubplot:xlabel='Record_Date', ylabel='Count'>"
      ]
     },
     "execution_count": 290,
     "metadata": {},
     "output_type": "execute_result"
    },
    {
     "data": {
      "image/png": "[encoded data removed]",
      "text/plain": [
       "<Figure size 1080x576 with 1 Axes>"
      ]
     },
     "metadata": {
      "needs_background": "light"
     },
     "output_type": "display_data"
    }
   ],
   "source": [
    "\"\"\"\n",
    "Majority of the data classified as miscellaneous happened in the earlier years\n",
    "where categorisation of fault is still under standardisation. This can cause noise to the ML model.\n",
    "To remove misc category fault group.\n",
    "\"\"\"\n",
    "\n",
    "plt.figure(figsize = (15,8))\n",
    "sns.histplot(x=\"Record_Date\", data=misc)"
   ]
  },
  {
   "cell_type": "code",
   "execution_count": 291,
   "id": "0aa0cbb2",
   "metadata": {},
   "outputs": [
    {
     "name": "stdout",
     "output_type": "stream",
     "text": [
      "(9258, 5)\n"
     ]
    }
   ],
   "source": [
    "#remove all the service Fault_Group categorised as miscellaneous and Nil. This removed ~25% data.\n",
    "dfta3 = dfta3[~dfta3.Fault_Group.str.contains(\"Miscellaneous System|Nil|Miscellaneous\")]\n",
    "print(dfta3.shape)"
   ]
  },
  {
   "cell_type": "code",
   "execution_count": 292,
   "id": "d56fca5a",
   "metadata": {
    "scrolled": true
   },
   "outputs": [],
   "source": [
    "#differentiate safety and non safety related defect with the remaining fault group. \n",
    "\n",
    "dfta3.loc[~(dfta3[\"Fault_Group\"].str.contains(\"Saloon Air Conditioning System|Air Condition System|Lighting System|Interior Equipment|Interior System|Audio|Lighting Equipment|PAPIS Equipment|Carbody Equipment|Air Conditioning System|Communication Power Supply\", regex = True)), \"Defect_Type\" ] = 'Safety Impact Defects'\n",
    "dfta3.loc[(dfta3[\"Fault_Group\"].str.contains(\"Saloon Air Conditioning System|Air Condition System|Lighting System|Interior Equipment|Interior System|Audio|Lighting Equipment|PAPIS Equipment|Carbody Equipment|Air Conditioning System|Communication Power Supply\")), \"Defect_Type\"] = 'Non Safety Impact Defects'                   "
   ]
  },
  {
   "cell_type": "code",
   "execution_count": 293,
   "id": "057997bf",
   "metadata": {},
   "outputs": [
    {
     "data": {
      "text/plain": [
       "Defect_Type                Defect_Type              \n",
       "Non Safety Impact Defects  Non Safety Impact Defects    3905\n",
       "Safety Impact Defects      Safety Impact Defects        5353\n",
       "Name: Defect_Type, dtype: int64"
      ]
     },
     "execution_count": 293,
     "metadata": {},
     "output_type": "execute_result"
    }
   ],
   "source": [
    "#safety and non safety defect count\n",
    "dfta3gb = dfta3.groupby(by = \"Defect_Type\")\n",
    "dfta3gb.Defect_Type.value_counts()"
   ]
  },
  {
   "cell_type": "code",
   "execution_count": 294,
   "id": "13dafd4c",
   "metadata": {},
   "outputs": [
    {
     "data": {
      "text/html": [
       "<div>\n",
       "<style scoped>\n",
       "    .dataframe tbody tr th:only-of-type {\n",
       "        vertical-align: middle;\n",
       "    }\n",
       "\n",
       "    .dataframe tbody tr th {\n",
       "        vertical-align: top;\n",
       "    }\n",
       "\n",
       "    .dataframe thead th {\n",
       "        text-align: right;\n",
       "    }\n",
       "</style>\n",
       "<table border=\"1\" class=\"dataframe\">\n",
       "  <thead>\n",
       "    <tr style=\"text-align: right;\">\n",
       "      <th></th>\n",
       "      <th>Record_Date</th>\n",
       "      <th>Activity_Type</th>\n",
       "      <th>Service_Number</th>\n",
       "      <th>Service_Fault_Symptoms</th>\n",
       "      <th>Fault_Group</th>\n",
       "      <th>Defect_Type</th>\n",
       "    </tr>\n",
       "  </thead>\n",
       "  <tbody>\n",
       "    <tr>\n",
       "      <th>35291</th>\n",
       "      <td>2020-12-28</td>\n",
       "      <td>003</td>\n",
       "      <td>RICTC185647</td>\n",
       "      <td>XX27. ATS alarm and TIP indicated Remote Input...</td>\n",
       "      <td>Control System</td>\n",
       "      <td>Safety Impact Defects</td>\n",
       "    </tr>\n",
       "    <tr>\n",
       "      <th>29575</th>\n",
       "      <td>2019-06-22</td>\n",
       "      <td>003</td>\n",
       "      <td>RICTC144073</td>\n",
       "      <td>XX17. ATS alarm and TIP indicated car7 auxilia...</td>\n",
       "      <td>Auxiliary System</td>\n",
       "      <td>Safety Impact Defects</td>\n",
       "    </tr>\n",
       "  </tbody>\n",
       "</table>\n",
       "</div>"
      ],
      "text/plain": [
       "      Record_Date Activity_Type Service_Number  \\\n",
       "35291  2020-12-28           003    RICTC185647   \n",
       "29575  2019-06-22           003    RICTC144073   \n",
       "\n",
       "                                  Service_Fault_Symptoms       Fault_Group  \\\n",
       "35291  XX27. ATS alarm and TIP indicated Remote Input...    Control System   \n",
       "29575  XX17. ATS alarm and TIP indicated car7 auxilia...  Auxiliary System   \n",
       "\n",
       "                 Defect_Type  \n",
       "35291  Safety Impact Defects  \n",
       "29575  Safety Impact Defects  "
      ]
     },
     "execution_count": 294,
     "metadata": {},
     "output_type": "execute_result"
    }
   ],
   "source": [
    "dfta3.sample(2)"
   ]
  },
  {
   "cell_type": "markdown",
   "id": "81f1d0d4",
   "metadata": {},
   "source": [
    "# 3 Machine Learning"
   ]
  },
  {
   "cell_type": "markdown",
   "id": "0037e24f",
   "metadata": {},
   "source": [
    "## Data Preparation"
   ]
  },
  {
   "cell_type": "code",
   "execution_count": 295,
   "id": "6c7fb5a6",
   "metadata": {},
   "outputs": [],
   "source": [
    "#extract the required features for ML\n",
    "features = dfta3.loc[:,[\"Service_Fault_Symptoms\",\"Defect_Type\"]]"
   ]
  },
  {
   "cell_type": "code",
   "execution_count": 296,
   "id": "840c4087",
   "metadata": {},
   "outputs": [
    {
     "data": {
      "text/html": [
       "<div>\n",
       "<style scoped>\n",
       "    .dataframe tbody tr th:only-of-type {\n",
       "        vertical-align: middle;\n",
       "    }\n",
       "\n",
       "    .dataframe tbody tr th {\n",
       "        vertical-align: top;\n",
       "    }\n",
       "\n",
       "    .dataframe thead th {\n",
       "        text-align: right;\n",
       "    }\n",
       "</style>\n",
       "<table border=\"1\" class=\"dataframe\">\n",
       "  <thead>\n",
       "    <tr style=\"text-align: right;\">\n",
       "      <th></th>\n",
       "      <th>Service_Fault_Symptoms</th>\n",
       "      <th>Defect_Type</th>\n",
       "    </tr>\n",
       "  </thead>\n",
       "  <tbody>\n",
       "    <tr>\n",
       "      <th>8</th>\n",
       "      <td>ATS alarm manager and TIP showed car 5 smoke f...</td>\n",
       "      <td>1</td>\n",
       "    </tr>\n",
       "    <tr>\n",
       "      <th>16</th>\n",
       "      <td>ATS alarm manager and TIP showed car 5 smoke f...</td>\n",
       "      <td>1</td>\n",
       "    </tr>\n",
       "    <tr>\n",
       "      <th>22</th>\n",
       "      <td>SNAPREP XX38: pax reported 8385 fan not workin...</td>\n",
       "      <td>0</td>\n",
       "    </tr>\n",
       "    <tr>\n",
       "      <th>36</th>\n",
       "      <td>XX51 Pax feedback of no aircon. Car 1  &amp; 7 hav...</td>\n",
       "      <td>0</td>\n",
       "    </tr>\n",
       "    <tr>\n",
       "      <th>57</th>\n",
       "      <td>XX17, driver reported Car1 fire extinguisher p...</td>\n",
       "      <td>0</td>\n",
       "    </tr>\n",
       "  </tbody>\n",
       "</table>\n",
       "</div>"
      ],
      "text/plain": [
       "                               Service_Fault_Symptoms  Defect_Type\n",
       "8   ATS alarm manager and TIP showed car 5 smoke f...            1\n",
       "16  ATS alarm manager and TIP showed car 5 smoke f...            1\n",
       "22  SNAPREP XX38: pax reported 8385 fan not workin...            0\n",
       "36  XX51 Pax feedback of no aircon. Car 1  & 7 hav...            0\n",
       "57  XX17, driver reported Car1 fire extinguisher p...            0"
      ]
     },
     "execution_count": 296,
     "metadata": {},
     "output_type": "execute_result"
    }
   ],
   "source": [
    "#convert Fault Group to a numerical variable\n",
    "features['Defect_Type'] = features['Defect_Type'].map({'Safety Impact Defects':1, 'Non Safety Impact Defects':0}).copy()\n",
    "features.head()"
   ]
  },
  {
   "cell_type": "code",
   "execution_count": 297,
   "id": "f2e0890f",
   "metadata": {},
   "outputs": [
    {
     "name": "stdout",
     "output_type": "stream",
     "text": [
      "(9258,)\n",
      "(9258,)\n"
     ]
    }
   ],
   "source": [
    "#2 Define X and y (from the FDS data) for use with COUNTVECTORIZER\n",
    "X = features.Service_Fault_Symptoms\n",
    "y = features.Defect_Type\n",
    "print(X.shape)\n",
    "print(y.shape)"
   ]
  },
  {
   "cell_type": "code",
   "execution_count": 298,
   "id": "de326d31",
   "metadata": {},
   "outputs": [
    {
     "name": "stdout",
     "output_type": "stream",
     "text": [
      "(6943,)\n",
      "(2315,)\n",
      "(6943,)\n",
      "(2315,)\n"
     ]
    }
   ],
   "source": [
    "\"\"\"\n",
    "#3 split X and y into training and testing sets\n",
    " by default, it splits 75% training and 25% test\n",
    " random_state=1 for reproducibility\n",
    "\"\"\"\n",
    "from sklearn.model_selection import train_test_split\n",
    "X_train, X_test, y_train, y_test = train_test_split(X, y, random_state=1)\n",
    "print(X_train.shape)\n",
    "print(X_test.shape)\n",
    "print(y_train.shape)\n",
    "print(y_test.shape)"
   ]
  },
  {
   "cell_type": "code",
   "execution_count": 299,
   "id": "83f64fc2",
   "metadata": {},
   "outputs": [],
   "source": [
    "#4 import and instantiate CountVectorizer (with the default parameters)\n",
    "from sklearn.feature_extraction.text import CountVectorizer\n",
    "\n",
    "#5 instantiate the vectorizer\n",
    "vect = CountVectorizer()"
   ]
  },
  {
   "cell_type": "code",
   "execution_count": 300,
   "id": "1dbf5d36",
   "metadata": {},
   "outputs": [
    {
     "data": {
      "text/plain": [
       "<6943x5067 sparse matrix of type '<class 'numpy.int64'>'\n",
       "\twith 149941 stored elements in Compressed Sparse Row format>"
      ]
     },
     "execution_count": 300,
     "metadata": {},
     "output_type": "execute_result"
    }
   ],
   "source": [
    "#5 combine fit and transform \n",
    "X_train_ft = vect.fit_transform(X_train)\n",
    "X_train_ft"
   ]
  },
  {
   "cell_type": "code",
   "execution_count": 301,
   "id": "990fc684",
   "metadata": {},
   "outputs": [
    {
     "data": {
      "text/plain": [
       "<2315x5067 sparse matrix of type '<class 'numpy.int64'>'\n",
       "\twith 48186 stored elements in Compressed Sparse Row format>"
      ]
     },
     "execution_count": 301,
     "metadata": {},
     "output_type": "execute_result"
    }
   ],
   "source": [
    "#6 transform testing data, using fitted vocabulary from X_train, into a document-term matrix.\n",
    "\n",
    "#5067 unique words in x_train\n",
    "X_test_ft = vect.transform(X_test)\n",
    "X_test_ft"
   ]
  },
  {
   "cell_type": "markdown",
   "id": "839ab7f1",
   "metadata": {},
   "source": [
    "## Training Machine Learning Model"
   ]
  },
  {
   "cell_type": "markdown",
   "id": "fbf89fe2",
   "metadata": {},
   "source": [
    "### Multinomial Naive Bayes model"
   ]
  },
  {
   "cell_type": "code",
   "execution_count": 302,
   "id": "f7faa35c",
   "metadata": {},
   "outputs": [],
   "source": [
    "#1 import\n",
    "from sklearn.naive_bayes import MultinomialNB"
   ]
  },
  {
   "cell_type": "code",
   "execution_count": 303,
   "id": "597c5943",
   "metadata": {},
   "outputs": [],
   "source": [
    "#2 Classify Multinomial Naive Bayes model as nb\n",
    "nb = MultinomialNB()"
   ]
  },
  {
   "cell_type": "code",
   "execution_count": 304,
   "id": "408041b5",
   "metadata": {},
   "outputs": [
    {
     "data": {
      "text/plain": [
       "MultinomialNB()"
      ]
     },
     "execution_count": 304,
     "metadata": {},
     "output_type": "execute_result"
    }
   ],
   "source": [
    "#3 train the model \n",
    "\n",
    "nb.fit(X_train_ft, y_train)"
   ]
  },
  {
   "cell_type": "code",
   "execution_count": 305,
   "id": "d48dd290",
   "metadata": {
    "scrolled": true
   },
   "outputs": [],
   "source": [
    "#4 make class predictions for X_test_dtm\n",
    "y_pred_class = nb.predict(X_test_ft)"
   ]
  },
  {
   "cell_type": "code",
   "execution_count": 306,
   "id": "fc3f9910",
   "metadata": {},
   "outputs": [
    {
     "data": {
      "text/plain": [
       "0.8980561555075594"
      ]
     },
     "execution_count": 306,
     "metadata": {},
     "output_type": "execute_result"
    }
   ],
   "source": [
    "#5 calculate accuracy of class predictions.\n",
    "from sklearn import metrics\n",
    "metrics.accuracy_score(y_test, y_pred_class)"
   ]
  },
  {
   "cell_type": "code",
   "execution_count": 307,
   "id": "f2671dfc",
   "metadata": {},
   "outputs": [
    {
     "data": {
      "text/plain": [
       "2315"
      ]
     },
     "execution_count": 307,
     "metadata": {},
     "output_type": "execute_result"
    }
   ],
   "source": [
    "y_test.value_counts().sum()"
   ]
  },
  {
   "cell_type": "code",
   "execution_count": 308,
   "id": "1b1218b3",
   "metadata": {},
   "outputs": [
    {
     "name": "stdout",
     "output_type": "stream",
     "text": [
      "1    1336\n",
      "0     979\n",
      "Name: Defect_Type, dtype: int64\n",
      "Null accuracy: 1    0.577106\n",
      "Name: Defect_Type, dtype: float64\n"
     ]
    }
   ],
   "source": [
    "# examine class distribution\n",
    "print(y_test.value_counts())\n",
    "# there is a majority class of 1 here, which is expected\n",
    "\n",
    "# calculate null accuracy. lower than accuracy of class prediction which is okay.\n",
    "null_accuracy = y_test.value_counts().head(1) / len(y_test)\n",
    "print('Null accuracy:' , null_accuracy)\n"
   ]
  },
  {
   "cell_type": "code",
   "execution_count": 309,
   "id": "05088ec1",
   "metadata": {},
   "outputs": [
    {
     "data": {
      "text/plain": [
       "<AxesSubplot:>"
      ]
     },
     "execution_count": 309,
     "metadata": {},
     "output_type": "execute_result"
    },
    {
     "data": {
      "image/png": "[encoded data removed]",
      "text/plain": [
       "<Figure size 432x288 with 2 Axes>"
      ]
     },
     "metadata": {
      "needs_background": "light"
     },
     "output_type": "display_data"
    }
   ],
   "source": [
    "\"\"\"\n",
    "Print the confusion matrix using heatmap to present. False Negative (FN) for safety impact defect is the worst. \n",
    "There are 132 FN case.\n",
    "\"\"\"\n",
    "sns.heatmap(metrics.confusion_matrix(y_test, y_pred_class),annot=True, fmt=\"d\")"
   ]
  },
  {
   "cell_type": "code",
   "execution_count": 310,
   "id": "e40b0357",
   "metadata": {},
   "outputs": [
    {
     "data": {
      "text/plain": [
       "3806     XX55/57: driver reported Car1 DDU indications ...\n",
       "1674     XX 31 Car 5 indicated PACU failed and TTIS for...\n",
       "31519    XX27: Car 2 indicate EHS activation opened. dr...\n",
       "22049    ATS Alarm Manager showed  Air Cooling Function...\n",
       "2339     Train XX19 PECU activated  for Car 1 Door A5. ...\n",
       "                               ...                        \n",
       "3604     XX17: EHS cover at least one open. driver chec...\n",
       "5262     XX07 EB by low pressure at T0751 after departi...\n",
       "3526     XX11 auxiliary equipment 7 toggling between no...\n",
       "28656    XX72, Evening launching outstable train ATS al...\n",
       "4581     XX35 at S8F: ATS alarms & TIP displayed Cab-to...\n",
       "Name: Service_Fault_Symptoms, Length: 132, dtype: object"
      ]
     },
     "execution_count": 310,
     "metadata": {},
     "output_type": "execute_result"
    }
   ],
   "source": [
    "\"\"\"\n",
    "print message of the FN for safety impact defect. \n",
    "Which can be used to dignose further to check for any error. (e.g. miscategorisation)\n",
    "\"\"\"\n",
    "\n",
    "X_test[(y_pred_class==1) & (y_test==0)]"
   ]
  },
  {
   "cell_type": "markdown",
   "id": "1e187872",
   "metadata": {},
   "source": [
    "### Logistic Regression"
   ]
  },
  {
   "cell_type": "code",
   "execution_count": 311,
   "id": "a9fa64d4",
   "metadata": {},
   "outputs": [],
   "source": [
    "# 1. import\n",
    "from sklearn.linear_model import LogisticRegression\n",
    "\n",
    "# 2. instantiate a logistic regression model\n",
    "lg = LogisticRegression()"
   ]
  },
  {
   "cell_type": "code",
   "execution_count": 312,
   "id": "cd269475",
   "metadata": {},
   "outputs": [
    {
     "name": "stderr",
     "output_type": "stream",
     "text": [
      "C:\\Users\\Darius\\anaconda3\\lib\\site-packages\\sklearn\\linear_model\\_logistic.py:763: ConvergenceWarning: lbfgs failed to converge (status=1):\n",
      "STOP: TOTAL NO. of ITERATIONS REACHED LIMIT.\n",
      "\n",
      "Increase the number of iterations (max_iter) or scale the data as shown in:\n",
      "    https://scikit-learn.org/stable/modules/preprocessing.html\n",
      "Please also refer to the documentation for alternative solver options:\n",
      "    https://scikit-learn.org/stable/modules/linear_model.html#logistic-regression\n",
      "  n_iter_i = _check_optimize_result(\n"
     ]
    },
    {
     "data": {
      "text/plain": [
       "LogisticRegression()"
      ]
     },
     "execution_count": 312,
     "metadata": {},
     "output_type": "execute_result"
    }
   ],
   "source": [
    "# 3. train the model using X_train_ft\n",
    "lg.fit(X_train_ft, y_train)"
   ]
  },
  {
   "cell_type": "code",
   "execution_count": 313,
   "id": "dc687424",
   "metadata": {},
   "outputs": [],
   "source": [
    "# 4. make class predictions for X_test_ft\n",
    "y_pred_class = lg.predict(X_test_ft)"
   ]
  },
  {
   "cell_type": "code",
   "execution_count": 314,
   "id": "9f8918be",
   "metadata": {},
   "outputs": [
    {
     "data": {
      "text/plain": [
       "array([0, 1, 0, ..., 1, 0, 0], dtype=int64)"
      ]
     },
     "execution_count": 314,
     "metadata": {},
     "output_type": "execute_result"
    }
   ],
   "source": [
    "y_pred_class"
   ]
  },
  {
   "cell_type": "code",
   "execution_count": 315,
   "id": "0e159021",
   "metadata": {},
   "outputs": [
    {
     "data": {
      "text/plain": [
       "15633    0\n",
       "28218    1\n",
       "12751    0\n",
       "2949     1\n",
       "32046    1\n",
       "        ..\n",
       "34828    1\n",
       "8261     1\n",
       "28393    1\n",
       "9740     0\n",
       "7325     0\n",
       "Name: Defect_Type, Length: 2315, dtype: int64"
      ]
     },
     "execution_count": 315,
     "metadata": {},
     "output_type": "execute_result"
    }
   ],
   "source": [
    "y_test"
   ]
  },
  {
   "cell_type": "code",
   "execution_count": 316,
   "id": "8d0927fa",
   "metadata": {},
   "outputs": [
    {
     "data": {
      "text/plain": [
       "0.9451403887688985"
      ]
     },
     "execution_count": 316,
     "metadata": {},
     "output_type": "execute_result"
    }
   ],
   "source": [
    "# 5. calculate accuracy. Scores better than NB.\n",
    "metrics.accuracy_score(y_test, y_pred_class)"
   ]
  },
  {
   "cell_type": "markdown",
   "id": "262757db",
   "metadata": {},
   "source": [
    "# 4 Text Analysis with Feature Engineering"
   ]
  },
  {
   "cell_type": "code",
   "execution_count": 317,
   "id": "a026c0be",
   "metadata": {},
   "outputs": [
    {
     "data": {
      "text/plain": [
       "5067"
      ]
     },
     "execution_count": 317,
     "metadata": {},
     "output_type": "execute_result"
    }
   ],
   "source": [
    "# store the words of X_train\n",
    "X_train_tokens = vect.get_feature_names()\n",
    "len(X_train_tokens)"
   ]
  },
  {
   "cell_type": "code",
   "execution_count": 318,
   "id": "047d67e4",
   "metadata": {},
   "outputs": [
    {
     "name": "stdout",
     "output_type": "stream",
     "text": [
      "['xx70', 'xx70stock', 'xx71', 'xx71air', 'xx71at', 'xx71propulsion', 'xx71was', 'xx72', 'xx73', 'xx75', 'xx77', 'xx77air', 'xx77car', 'xx78', 'xx78at', 'xx78car', 'xx78was', 'xx79', 'xxat', 'xxs', 'xxstockchange', 'xxvs', 'xxwas', 'xxxx73', 'y7', 'ya', 'yale', 'yap', 'yapinfo', 'yapwas', 'yck', 'yck_ot', 'yckot', 'yellow', 'yeo', 'yeow', 'yep', 'yet', 'yielded', 'yong', 'york', 'yt', 'yttan', 'yue', 'yup', 'zabbix', 'zeroed', 'zibbix', 'zone', 'zul']\n"
     ]
    }
   ],
   "source": [
    "# examine the last 50 tokens\n",
    "print(X_train_tokens[-50:])"
   ]
  },
  {
   "cell_type": "code",
   "execution_count": 319,
   "id": "089cc57e",
   "metadata": {},
   "outputs": [
    {
     "data": {
      "text/plain": [
       "array([[3., 0., 0., ..., 1., 0., 0.],\n",
       "       [8., 1., 1., ..., 0., 4., 2.]])"
      ]
     },
     "execution_count": 319,
     "metadata": {},
     "output_type": "execute_result"
    }
   ],
   "source": [
    "# Naive Bayes counts the number of times each token appears in each class\n",
    "# trailing underscore - learned during fitting\n",
    "nb.feature_count_"
   ]
  },
  {
   "cell_type": "code",
   "execution_count": 320,
   "id": "a2f22168",
   "metadata": {},
   "outputs": [
    {
     "data": {
      "text/plain": [
       "(2, 5067)"
      ]
     },
     "execution_count": 320,
     "metadata": {},
     "output_type": "execute_result"
    }
   ],
   "source": [
    "# rows represent classes, columns represent tokens\n",
    "nb.feature_count_.shape"
   ]
  },
  {
   "cell_type": "code",
   "execution_count": 321,
   "id": "fb07412d",
   "metadata": {
    "scrolled": true
   },
   "outputs": [
    {
     "data": {
      "text/plain": [
       "array([8., 1., 1., ..., 0., 4., 2.])"
      ]
     },
     "execution_count": 321,
     "metadata": {},
     "output_type": "execute_result"
    }
   ],
   "source": [
    "# number of times each token appears across all non-safety messages\n",
    "safety_token_count = nb.feature_count_[1, :]\n",
    "safety_token_count"
   ]
  },
  {
   "cell_type": "code",
   "execution_count": 322,
   "id": "fead6446",
   "metadata": {},
   "outputs": [
    {
     "data": {
      "text/plain": [
       "array([3., 0., 0., ..., 1., 0., 0.])"
      ]
     },
     "execution_count": 322,
     "metadata": {},
     "output_type": "execute_result"
    }
   ],
   "source": [
    "# number of times each token appears across all safety messages\n",
    "non_safety_token_count = nb.feature_count_[0, :]\n",
    "non_safety_token_count"
   ]
  },
  {
   "cell_type": "code",
   "execution_count": 323,
   "id": "9d9c6614",
   "metadata": {
    "scrolled": false
   },
   "outputs": [
    {
     "data": {
      "text/html": [
       "<div>\n",
       "<style scoped>\n",
       "    .dataframe tbody tr th:only-of-type {\n",
       "        vertical-align: middle;\n",
       "    }\n",
       "\n",
       "    .dataframe tbody tr th {\n",
       "        vertical-align: top;\n",
       "    }\n",
       "\n",
       "    .dataframe thead th {\n",
       "        text-align: right;\n",
       "    }\n",
       "</style>\n",
       "<table border=\"1\" class=\"dataframe\">\n",
       "  <thead>\n",
       "    <tr style=\"text-align: right;\">\n",
       "      <th></th>\n",
       "      <th>safety</th>\n",
       "      <th>non_safety</th>\n",
       "    </tr>\n",
       "    <tr>\n",
       "      <th>token</th>\n",
       "      <th></th>\n",
       "      <th></th>\n",
       "    </tr>\n",
       "  </thead>\n",
       "  <tbody>\n",
       "    <tr>\n",
       "      <th>cable</th>\n",
       "      <td>1.0</td>\n",
       "      <td>0.0</td>\n",
       "    </tr>\n",
       "    <tr>\n",
       "      <th>pres</th>\n",
       "      <td>1.0</td>\n",
       "      <td>0.0</td>\n",
       "    </tr>\n",
       "    <tr>\n",
       "      <th>alarmappear</th>\n",
       "      <td>1.0</td>\n",
       "      <td>0.0</td>\n",
       "    </tr>\n",
       "    <tr>\n",
       "      <th>7b3</th>\n",
       "      <td>0.0</td>\n",
       "      <td>1.0</td>\n",
       "    </tr>\n",
       "    <tr>\n",
       "      <th>710</th>\n",
       "      <td>1.0</td>\n",
       "      <td>0.0</td>\n",
       "    </tr>\n",
       "  </tbody>\n",
       "</table>\n",
       "</div>"
      ],
      "text/plain": [
       "             safety  non_safety\n",
       "token                          \n",
       "cable           1.0         0.0\n",
       "pres            1.0         0.0\n",
       "alarmappear     1.0         0.0\n",
       "7b3             0.0         1.0\n",
       "710             1.0         0.0"
      ]
     },
     "execution_count": 323,
     "metadata": {},
     "output_type": "execute_result"
    }
   ],
   "source": [
    "# create a DataFrame of tokens with their separate safety and non-safety counts\n",
    "tokens = pd.DataFrame({'token':X_train_tokens, 'safety':safety_token_count, \n",
    "                       'non_safety':non_safety_token_count}).set_index('token')\n",
    "tokens.sample(5)"
   ]
  },
  {
   "cell_type": "code",
   "execution_count": 324,
   "id": "c62a1daf",
   "metadata": {},
   "outputs": [
    {
     "data": {
      "text/html": [
       "<div>\n",
       "<style scoped>\n",
       "    .dataframe tbody tr th:only-of-type {\n",
       "        vertical-align: middle;\n",
       "    }\n",
       "\n",
       "    .dataframe tbody tr th {\n",
       "        vertical-align: top;\n",
       "    }\n",
       "\n",
       "    .dataframe thead th {\n",
       "        text-align: right;\n",
       "    }\n",
       "</style>\n",
       "<table border=\"1\" class=\"dataframe\">\n",
       "  <thead>\n",
       "    <tr style=\"text-align: right;\">\n",
       "      <th></th>\n",
       "      <th>safety</th>\n",
       "      <th>non_safety</th>\n",
       "    </tr>\n",
       "    <tr>\n",
       "      <th>token</th>\n",
       "      <th></th>\n",
       "      <th></th>\n",
       "    </tr>\n",
       "  </thead>\n",
       "  <tbody>\n",
       "    <tr>\n",
       "      <th>follows</th>\n",
       "      <td>1.0</td>\n",
       "      <td>0.0</td>\n",
       "    </tr>\n",
       "    <tr>\n",
       "      <th>indic</th>\n",
       "      <td>1.0</td>\n",
       "      <td>0.0</td>\n",
       "    </tr>\n",
       "    <tr>\n",
       "      <th>intermttent</th>\n",
       "      <td>1.0</td>\n",
       "      <td>0.0</td>\n",
       "    </tr>\n",
       "    <tr>\n",
       "      <th>network</th>\n",
       "      <td>63.0</td>\n",
       "      <td>2.0</td>\n",
       "    </tr>\n",
       "    <tr>\n",
       "      <th>reclose</th>\n",
       "      <td>4.0</td>\n",
       "      <td>0.0</td>\n",
       "    </tr>\n",
       "  </tbody>\n",
       "</table>\n",
       "</div>"
      ],
      "text/plain": [
       "             safety  non_safety\n",
       "token                          \n",
       "follows         1.0         0.0\n",
       "indic           1.0         0.0\n",
       "intermttent     1.0         0.0\n",
       "network        63.0         2.0\n",
       "reclose         4.0         0.0"
      ]
     },
     "execution_count": 324,
     "metadata": {},
     "output_type": "execute_result"
    }
   ],
   "source": [
    "# examine 5 random DataFrame rows\n",
    "# random_state=1 is a seed for reproducibility\n",
    "tokens.sample(5, random_state=1)"
   ]
  },
  {
   "cell_type": "code",
   "execution_count": 325,
   "id": "7ee77116",
   "metadata": {},
   "outputs": [
    {
     "data": {
      "text/plain": [
       "array([2926., 4017.])"
      ]
     },
     "execution_count": 325,
     "metadata": {},
     "output_type": "execute_result"
    }
   ],
   "source": [
    "# Naive Bayes counts the number of observations in each class\n",
    "nb.class_count_"
   ]
  },
  {
   "cell_type": "code",
   "execution_count": 326,
   "id": "7d2a7879",
   "metadata": {},
   "outputs": [
    {
     "data": {
      "text/plain": [
       "safety        float64\n",
       "non_safety    float64\n",
       "dtype: object"
      ]
     },
     "execution_count": 326,
     "metadata": {},
     "output_type": "execute_result"
    }
   ],
   "source": [
    "tokens.dtypes"
   ]
  },
  {
   "cell_type": "code",
   "execution_count": 327,
   "id": "65a020a3",
   "metadata": {},
   "outputs": [
    {
     "data": {
      "text/html": [
       "<div>\n",
       "<style scoped>\n",
       "    .dataframe tbody tr th:only-of-type {\n",
       "        vertical-align: middle;\n",
       "    }\n",
       "\n",
       "    .dataframe tbody tr th {\n",
       "        vertical-align: top;\n",
       "    }\n",
       "\n",
       "    .dataframe thead th {\n",
       "        text-align: right;\n",
       "    }\n",
       "</style>\n",
       "<table border=\"1\" class=\"dataframe\">\n",
       "  <thead>\n",
       "    <tr style=\"text-align: right;\">\n",
       "      <th></th>\n",
       "      <th>safety</th>\n",
       "      <th>non_safety</th>\n",
       "    </tr>\n",
       "    <tr>\n",
       "      <th>token</th>\n",
       "      <th></th>\n",
       "      <th></th>\n",
       "    </tr>\n",
       "  </thead>\n",
       "  <tbody>\n",
       "    <tr>\n",
       "      <th>follows</th>\n",
       "      <td>2.0</td>\n",
       "      <td>1.0</td>\n",
       "    </tr>\n",
       "    <tr>\n",
       "      <th>indic</th>\n",
       "      <td>2.0</td>\n",
       "      <td>1.0</td>\n",
       "    </tr>\n",
       "    <tr>\n",
       "      <th>intermttent</th>\n",
       "      <td>2.0</td>\n",
       "      <td>1.0</td>\n",
       "    </tr>\n",
       "    <tr>\n",
       "      <th>network</th>\n",
       "      <td>64.0</td>\n",
       "      <td>3.0</td>\n",
       "    </tr>\n",
       "    <tr>\n",
       "      <th>reclose</th>\n",
       "      <td>5.0</td>\n",
       "      <td>1.0</td>\n",
       "    </tr>\n",
       "  </tbody>\n",
       "</table>\n",
       "</div>"
      ],
      "text/plain": [
       "             safety  non_safety\n",
       "token                          \n",
       "follows         2.0         1.0\n",
       "indic           2.0         1.0\n",
       "intermttent     2.0         1.0\n",
       "network        64.0         3.0\n",
       "reclose         5.0         1.0"
      ]
     },
     "execution_count": 327,
     "metadata": {},
     "output_type": "execute_result"
    }
   ],
   "source": [
    "# +1 to safety and non-safety counts to avoid dividing by 0\n",
    "tokens.iloc[:,0] = tokens.iloc[:,0].map(lambda x:x+1.0)\n",
    "tokens.iloc[:,1] = tokens.iloc[:,1].map(lambda x:x+1.0)\n",
    "tokens.sample(5, random_state=1)"
   ]
  },
  {
   "cell_type": "code",
   "execution_count": 328,
   "id": "41b1013d",
   "metadata": {},
   "outputs": [
    {
     "data": {
      "text/html": [
       "<div>\n",
       "<style scoped>\n",
       "    .dataframe tbody tr th:only-of-type {\n",
       "        vertical-align: middle;\n",
       "    }\n",
       "\n",
       "    .dataframe tbody tr th {\n",
       "        vertical-align: top;\n",
       "    }\n",
       "\n",
       "    .dataframe thead th {\n",
       "        text-align: right;\n",
       "    }\n",
       "</style>\n",
       "<table border=\"1\" class=\"dataframe\">\n",
       "  <thead>\n",
       "    <tr style=\"text-align: right;\">\n",
       "      <th></th>\n",
       "      <th>safety</th>\n",
       "      <th>non_safety</th>\n",
       "      <th>safety_token_count</th>\n",
       "      <th>non_safety_token_count</th>\n",
       "    </tr>\n",
       "    <tr>\n",
       "      <th>token</th>\n",
       "      <th></th>\n",
       "      <th></th>\n",
       "      <th></th>\n",
       "      <th></th>\n",
       "    </tr>\n",
       "  </thead>\n",
       "  <tbody>\n",
       "    <tr>\n",
       "      <th>follows</th>\n",
       "      <td>2.0</td>\n",
       "      <td>1.0</td>\n",
       "      <td>0.000684</td>\n",
       "      <td>0.000249</td>\n",
       "    </tr>\n",
       "    <tr>\n",
       "      <th>indic</th>\n",
       "      <td>2.0</td>\n",
       "      <td>1.0</td>\n",
       "      <td>0.000684</td>\n",
       "      <td>0.000249</td>\n",
       "    </tr>\n",
       "    <tr>\n",
       "      <th>intermttent</th>\n",
       "      <td>2.0</td>\n",
       "      <td>1.0</td>\n",
       "      <td>0.000684</td>\n",
       "      <td>0.000249</td>\n",
       "    </tr>\n",
       "    <tr>\n",
       "      <th>network</th>\n",
       "      <td>64.0</td>\n",
       "      <td>3.0</td>\n",
       "      <td>0.021873</td>\n",
       "      <td>0.000747</td>\n",
       "    </tr>\n",
       "    <tr>\n",
       "      <th>reclose</th>\n",
       "      <td>5.0</td>\n",
       "      <td>1.0</td>\n",
       "      <td>0.001709</td>\n",
       "      <td>0.000249</td>\n",
       "    </tr>\n",
       "  </tbody>\n",
       "</table>\n",
       "</div>"
      ],
      "text/plain": [
       "             safety  non_safety  safety_token_count  non_safety_token_count\n",
       "token                                                                      \n",
       "follows         2.0         1.0            0.000684                0.000249\n",
       "indic           2.0         1.0            0.000684                0.000249\n",
       "intermttent     2.0         1.0            0.000684                0.000249\n",
       "network        64.0         3.0            0.021873                0.000747\n",
       "reclose         5.0         1.0            0.001709                0.000249"
      ]
     },
     "execution_count": 328,
     "metadata": {},
     "output_type": "execute_result"
    }
   ],
   "source": [
    "# convert the Critical and Non-Critical counts into frequencies\n",
    "tokens['safety_token_count'] = tokens[\"safety\"] / nb.class_count_[0]\n",
    "tokens['non_safety_token_count'] = tokens[\"non_safety\"] / nb.class_count_[1]\n",
    "tokens.sample(5, random_state=1)"
   ]
  },
  {
   "cell_type": "code",
   "execution_count": 329,
   "id": "d42d4a75",
   "metadata": {},
   "outputs": [
    {
     "data": {
      "text/html": [
       "<div>\n",
       "<style scoped>\n",
       "    .dataframe tbody tr th:only-of-type {\n",
       "        vertical-align: middle;\n",
       "    }\n",
       "\n",
       "    .dataframe tbody tr th {\n",
       "        vertical-align: top;\n",
       "    }\n",
       "\n",
       "    .dataframe thead th {\n",
       "        text-align: right;\n",
       "    }\n",
       "</style>\n",
       "<table border=\"1\" class=\"dataframe\">\n",
       "  <thead>\n",
       "    <tr style=\"text-align: right;\">\n",
       "      <th></th>\n",
       "      <th>safety</th>\n",
       "      <th>non_safety</th>\n",
       "      <th>safety_token_count</th>\n",
       "      <th>non_safety_token_count</th>\n",
       "      <th>safety_ratio</th>\n",
       "    </tr>\n",
       "    <tr>\n",
       "      <th>token</th>\n",
       "      <th></th>\n",
       "      <th></th>\n",
       "      <th></th>\n",
       "      <th></th>\n",
       "      <th></th>\n",
       "    </tr>\n",
       "  </thead>\n",
       "  <tbody>\n",
       "    <tr>\n",
       "      <th>follows</th>\n",
       "      <td>2.0</td>\n",
       "      <td>1.0</td>\n",
       "      <td>0.000684</td>\n",
       "      <td>0.000249</td>\n",
       "      <td>2.745728</td>\n",
       "    </tr>\n",
       "    <tr>\n",
       "      <th>indic</th>\n",
       "      <td>2.0</td>\n",
       "      <td>1.0</td>\n",
       "      <td>0.000684</td>\n",
       "      <td>0.000249</td>\n",
       "      <td>2.745728</td>\n",
       "    </tr>\n",
       "    <tr>\n",
       "      <th>intermttent</th>\n",
       "      <td>2.0</td>\n",
       "      <td>1.0</td>\n",
       "      <td>0.000684</td>\n",
       "      <td>0.000249</td>\n",
       "      <td>2.745728</td>\n",
       "    </tr>\n",
       "    <tr>\n",
       "      <th>network</th>\n",
       "      <td>64.0</td>\n",
       "      <td>3.0</td>\n",
       "      <td>0.021873</td>\n",
       "      <td>0.000747</td>\n",
       "      <td>29.287765</td>\n",
       "    </tr>\n",
       "    <tr>\n",
       "      <th>reclose</th>\n",
       "      <td>5.0</td>\n",
       "      <td>1.0</td>\n",
       "      <td>0.001709</td>\n",
       "      <td>0.000249</td>\n",
       "      <td>6.864320</td>\n",
       "    </tr>\n",
       "  </tbody>\n",
       "</table>\n",
       "</div>"
      ],
      "text/plain": [
       "             safety  non_safety  safety_token_count  non_safety_token_count  \\\n",
       "token                                                                         \n",
       "follows         2.0         1.0            0.000684                0.000249   \n",
       "indic           2.0         1.0            0.000684                0.000249   \n",
       "intermttent     2.0         1.0            0.000684                0.000249   \n",
       "network        64.0         3.0            0.021873                0.000747   \n",
       "reclose         5.0         1.0            0.001709                0.000249   \n",
       "\n",
       "             safety_ratio  \n",
       "token                      \n",
       "follows          2.745728  \n",
       "indic            2.745728  \n",
       "intermttent      2.745728  \n",
       "network         29.287765  \n",
       "reclose          6.864320  "
      ]
     },
     "execution_count": 329,
     "metadata": {},
     "output_type": "execute_result"
    }
   ],
   "source": [
    "# calculate the ratio of critical to non-critical for each token\n",
    "tokens['safety_ratio'] = tokens[\"safety_token_count\"]  / tokens[\"non_safety_token_count\"]\n",
    "tokens.sample(5, random_state=1)"
   ]
  },
  {
   "cell_type": "code",
   "execution_count": 330,
   "id": "d00d6ade",
   "metadata": {},
   "outputs": [
    {
     "data": {
      "text/html": [
       "<div>\n",
       "<style scoped>\n",
       "    .dataframe tbody tr th:only-of-type {\n",
       "        vertical-align: middle;\n",
       "    }\n",
       "\n",
       "    .dataframe tbody tr th {\n",
       "        vertical-align: top;\n",
       "    }\n",
       "\n",
       "    .dataframe thead th {\n",
       "        text-align: right;\n",
       "    }\n",
       "</style>\n",
       "<table border=\"1\" class=\"dataframe\">\n",
       "  <thead>\n",
       "    <tr style=\"text-align: right;\">\n",
       "      <th></th>\n",
       "      <th>safety</th>\n",
       "      <th>non_safety</th>\n",
       "      <th>safety_token_count</th>\n",
       "      <th>non_safety_token_count</th>\n",
       "      <th>safety_ratio</th>\n",
       "    </tr>\n",
       "    <tr>\n",
       "      <th>token</th>\n",
       "      <th></th>\n",
       "      <th></th>\n",
       "      <th></th>\n",
       "      <th></th>\n",
       "      <th></th>\n",
       "    </tr>\n",
       "  </thead>\n",
       "  <tbody>\n",
       "    <tr>\n",
       "      <th>propulsion</th>\n",
       "      <td>620.0</td>\n",
       "      <td>2.0</td>\n",
       "      <td>0.211893</td>\n",
       "      <td>0.000498</td>\n",
       "      <td>425.587833</td>\n",
       "    </tr>\n",
       "    <tr>\n",
       "      <th>tims</th>\n",
       "      <td>129.0</td>\n",
       "      <td>1.0</td>\n",
       "      <td>0.044087</td>\n",
       "      <td>0.000249</td>\n",
       "      <td>177.099453</td>\n",
       "    </tr>\n",
       "    <tr>\n",
       "      <th>pce</th>\n",
       "      <td>125.0</td>\n",
       "      <td>1.0</td>\n",
       "      <td>0.042720</td>\n",
       "      <td>0.000249</td>\n",
       "      <td>171.607997</td>\n",
       "    </tr>\n",
       "    <tr>\n",
       "      <th>isolated</th>\n",
       "      <td>742.0</td>\n",
       "      <td>6.0</td>\n",
       "      <td>0.253589</td>\n",
       "      <td>0.001494</td>\n",
       "      <td>169.777512</td>\n",
       "    </tr>\n",
       "    <tr>\n",
       "      <th>slow</th>\n",
       "      <td>121.0</td>\n",
       "      <td>1.0</td>\n",
       "      <td>0.041353</td>\n",
       "      <td>0.000249</td>\n",
       "      <td>166.116541</td>\n",
       "    </tr>\n",
       "  </tbody>\n",
       "</table>\n",
       "</div>"
      ],
      "text/plain": [
       "            safety  non_safety  safety_token_count  non_safety_token_count  \\\n",
       "token                                                                        \n",
       "propulsion   620.0         2.0            0.211893                0.000498   \n",
       "tims         129.0         1.0            0.044087                0.000249   \n",
       "pce          125.0         1.0            0.042720                0.000249   \n",
       "isolated     742.0         6.0            0.253589                0.001494   \n",
       "slow         121.0         1.0            0.041353                0.000249   \n",
       "\n",
       "            safety_ratio  \n",
       "token                     \n",
       "propulsion    425.587833  \n",
       "tims          177.099453  \n",
       "pce           171.607997  \n",
       "isolated      169.777512  \n",
       "slow          166.116541  "
      ]
     },
     "execution_count": 330,
     "metadata": {},
     "output_type": "execute_result"
    }
   ],
   "source": [
    "\"\"\"\n",
    "# examine the DataFrame sorted by safety_ratio. These are the words used in reported symptoms that has the highest\n",
    "# correlation with safety related defect.\n",
    "\"\"\"\n",
    "\n",
    "tokens.loc[:,:].sort_values('safety_ratio', ascending=False)[:5]"
   ]
  },
  {
   "cell_type": "code",
   "execution_count": 331,
   "id": "930aa757",
   "metadata": {},
   "outputs": [
    {
     "data": {
      "text/plain": [
       "(5067, 5)"
      ]
     },
     "execution_count": 331,
     "metadata": {},
     "output_type": "execute_result"
    }
   ],
   "source": [
    "\"\"\"\n",
    "There are over 5000 unique words in the symptoms in X_train (first 75% data). \n",
    "Perhaps we can reduce it using language processing technique.\n",
    "\"\"\"\n",
    "tokens.shape"
   ]
  },
  {
   "cell_type": "markdown",
   "id": "03375510",
   "metadata": {},
   "source": [
    "# 5 Natural Language Processing"
   ]
  },
  {
   "cell_type": "code",
   "execution_count": 332,
   "id": "bde357b8",
   "metadata": {},
   "outputs": [],
   "source": [
    "#import relevant libraries for language processing.\n",
    "from nltk.corpus import stopwords\n",
    "from nltk.tokenize import sent_tokenize, word_tokenize\n",
    "from nltk.stem import WordNetLemmatizer"
   ]
  },
  {
   "cell_type": "code",
   "execution_count": 333,
   "id": "2b3ae143",
   "metadata": {},
   "outputs": [],
   "source": [
    "featuresNLP = features.copy()"
   ]
  },
  {
   "cell_type": "code",
   "execution_count": 334,
   "id": "e86708b8",
   "metadata": {},
   "outputs": [
    {
     "data": {
      "text/html": [
       "<div>\n",
       "<style scoped>\n",
       "    .dataframe tbody tr th:only-of-type {\n",
       "        vertical-align: middle;\n",
       "    }\n",
       "\n",
       "    .dataframe tbody tr th {\n",
       "        vertical-align: top;\n",
       "    }\n",
       "\n",
       "    .dataframe thead th {\n",
       "        text-align: right;\n",
       "    }\n",
       "</style>\n",
       "<table border=\"1\" class=\"dataframe\">\n",
       "  <thead>\n",
       "    <tr style=\"text-align: right;\">\n",
       "      <th></th>\n",
       "      <th>Service_Fault_Symptoms</th>\n",
       "      <th>Defect_Type</th>\n",
       "    </tr>\n",
       "  </thead>\n",
       "  <tbody>\n",
       "    <tr>\n",
       "      <th>3531</th>\n",
       "      <td>ATS alarm manager indicated XX75/perf07 Public...</td>\n",
       "      <td>0</td>\n",
       "    </tr>\n",
       "    <tr>\n",
       "      <th>9568</th>\n",
       "      <td>driver reported aircon leaking at Car1 A3door....</td>\n",
       "      <td>0</td>\n",
       "    </tr>\n",
       "    <tr>\n",
       "      <th>10204</th>\n",
       "      <td>driver reported Car 5 Door B1 Train Dooropened...</td>\n",
       "      <td>1</td>\n",
       "    </tr>\n",
       "    <tr>\n",
       "      <th>9097</th>\n",
       "      <td>TIP shows Car7 A7 door - Obstacle detected. PM...</td>\n",
       "      <td>1</td>\n",
       "    </tr>\n",
       "    <tr>\n",
       "      <th>27590</th>\n",
       "      <td>XX13 ATS alarm manager and TIP showed Car1 and...</td>\n",
       "      <td>1</td>\n",
       "    </tr>\n",
       "  </tbody>\n",
       "</table>\n",
       "</div>"
      ],
      "text/plain": [
       "                                  Service_Fault_Symptoms  Defect_Type\n",
       "3531   ATS alarm manager indicated XX75/perf07 Public...            0\n",
       "9568   driver reported aircon leaking at Car1 A3door....            0\n",
       "10204  driver reported Car 5 Door B1 Train Dooropened...            1\n",
       "9097   TIP shows Car7 A7 door - Obstacle detected. PM...            1\n",
       "27590  XX13 ATS alarm manager and TIP showed Car1 and...            1"
      ]
     },
     "execution_count": 334,
     "metadata": {},
     "output_type": "execute_result"
    }
   ],
   "source": [
    "featuresNLP.sample(5)"
   ]
  },
  {
   "cell_type": "code",
   "execution_count": 335,
   "id": "54382cbc",
   "metadata": {
    "scrolled": true
   },
   "outputs": [],
   "source": [
    "#1 change the text into lower case\n",
    "featuresNLP['Service_Fault_Symptoms'] = featuresNLP['Service_Fault_Symptoms'].map(lambda x:x.lower() if type(x) == str else x)"
   ]
  },
  {
   "cell_type": "code",
   "execution_count": 336,
   "id": "a140975e",
   "metadata": {},
   "outputs": [
    {
     "data": {
      "text/plain": [
       "(8810,)"
      ]
     },
     "execution_count": 336,
     "metadata": {},
     "output_type": "execute_result"
    }
   ],
   "source": [
    "#2 remove punctuation using regex\n",
    "featuresNLP['Service_Fault_Symptoms'] = featuresNLP['Service_Fault_Symptoms'].str.replace('[^\\w\\s]','', regex=True)\n",
    "freq1 = pd.Series(' '.join(featuresNLP['Service_Fault_Symptoms']).split()).value_counts()\n",
    "freq1.shape"
   ]
  },
  {
   "cell_type": "code",
   "execution_count": 337,
   "id": "cd9723ea",
   "metadata": {},
   "outputs": [],
   "source": [
    "#3 remove number using regex\n",
    "featuresNLP['Service_Fault_Symptoms'] = featuresNLP['Service_Fault_Symptoms'].str.replace('\\d','', regex=True)"
   ]
  },
  {
   "cell_type": "code",
   "execution_count": 338,
   "id": "6368ff24",
   "metadata": {},
   "outputs": [
    {
     "data": {
      "text/plain": [
       "(5410,)"
      ]
     },
     "execution_count": 338,
     "metadata": {},
     "output_type": "execute_result"
    }
   ],
   "source": [
    "#4 removal of stop words\n",
    "stop = stopwords.words('english')\n",
    "\n",
    "featuresNLP['Service_Fault_Symptoms'] = featuresNLP['Service_Fault_Symptoms'].map(lambda x: \" \".join(x for x in x.split() if x not in stop))\n",
    "freq2 = pd.Series(' '.join(featuresNLP['Service_Fault_Symptoms']).split()).value_counts()\n",
    "freq2.shape"
   ]
  },
  {
   "cell_type": "code",
   "execution_count": 339,
   "id": "57114da4",
   "metadata": {},
   "outputs": [
    {
     "data": {
      "text/plain": [
       "(5394,)"
      ]
     },
     "execution_count": 339,
     "metadata": {},
     "output_type": "execute_result"
    }
   ],
   "source": [
    "#5 removal of single alphabet words\n",
    "featuresNLP['Service_Fault_Symptoms'] = featuresNLP['Service_Fault_Symptoms'].map(lambda x: \" \".join(x for x in x.split() if len(x)>1))\n",
    "freq3 = pd.Series(' '.join(featuresNLP['Service_Fault_Symptoms']).split()).value_counts()\n",
    "freq3.shape"
   ]
  },
  {
   "cell_type": "code",
   "execution_count": 340,
   "id": "f8990d19",
   "metadata": {},
   "outputs": [
    {
     "data": {
      "text/plain": [
       "(5246,)"
      ]
     },
     "execution_count": 340,
     "metadata": {},
     "output_type": "execute_result"
    }
   ],
   "source": [
    "#6 lemmnization (better than stemming)\n",
    "lm = WordNetLemmatizer()\n",
    "\n",
    "featuresNLP['Service_Fault_Symptoms'] = featuresNLP['Service_Fault_Symptoms'][:].apply(lambda x: \" \".join([lm.lemmatize(word) for word in x.split()]))\n",
    "freq4 = pd.Series(' '.join(featuresNLP['Service_Fault_Symptoms']).split()).value_counts()\n",
    "freq4.shape"
   ]
  },
  {
   "cell_type": "code",
   "execution_count": 341,
   "id": "067a6a9d",
   "metadata": {},
   "outputs": [
    {
     "data": {
      "text/plain": [
       "<AxesSubplot:ylabel='Count'>"
      ]
     },
     "execution_count": 341,
     "metadata": {},
     "output_type": "execute_result"
    },
    {
     "data": {
      "image/png": "[encoded data removed]",
      "text/plain": [
       "<Figure size 1080x576 with 1 Axes>"
      ]
     },
     "metadata": {
      "needs_background": "light"
     },
     "output_type": "display_data"
    }
   ],
   "source": [
    "#Using a log x-axis scale histogram. ~90% of the words appeared less than 100 times.\n",
    "plt.figure(figsize = (15,8))\n",
    "sns.histplot(data=freq5, log_scale=True)"
   ]
  },
  {
   "cell_type": "code",
   "execution_count": 342,
   "id": "134b58a9",
   "metadata": {},
   "outputs": [
    {
     "data": {
      "text/plain": [
       "2818"
      ]
     },
     "execution_count": 342,
     "metadata": {},
     "output_type": "execute_result"
    }
   ],
   "source": [
    "#calculate sum of the words appear 5 or less. ~80% (4107/5211) of the words appear less than 1 times. \n",
    "freq5.value_counts()[:1].sum()"
   ]
  },
  {
   "cell_type": "code",
   "execution_count": 343,
   "id": "764a2fb9",
   "metadata": {},
   "outputs": [
    {
     "data": {
      "text/plain": [
       "(2428,)"
      ]
     },
     "execution_count": 343,
     "metadata": {},
     "output_type": "execute_result"
    }
   ],
   "source": [
    "#7 removal words appear 1 time. removed ~54% of the words\n",
    "freqwords = pd.Series(' '.join(featuresNLP['Service_Fault_Symptoms']).split()).value_counts()[-2818:]\n",
    "featuresNLP['Service_Fault_Symptoms'] = featuresNLP['Service_Fault_Symptoms'].map(lambda x: \" \".join(x for x in x.split() if x not in freqwords))\n",
    "freq6 = pd.Series(' '.join(featuresNLP['Service_Fault_Symptoms']).split()).value_counts()\n",
    "freq6.shape"
   ]
  },
  {
   "cell_type": "code",
   "execution_count": 344,
   "id": "9d3cd8b2",
   "metadata": {},
   "outputs": [
    {
     "data": {
      "text/html": [
       "<div>\n",
       "<style scoped>\n",
       "    .dataframe tbody tr th:only-of-type {\n",
       "        vertical-align: middle;\n",
       "    }\n",
       "\n",
       "    .dataframe tbody tr th {\n",
       "        vertical-align: top;\n",
       "    }\n",
       "\n",
       "    .dataframe thead th {\n",
       "        text-align: right;\n",
       "    }\n",
       "</style>\n",
       "<table border=\"1\" class=\"dataframe\">\n",
       "  <thead>\n",
       "    <tr style=\"text-align: right;\">\n",
       "      <th></th>\n",
       "      <th>Service_Fault_Symptoms</th>\n",
       "      <th>Defect_Type</th>\n",
       "    </tr>\n",
       "  </thead>\n",
       "  <tbody>\n",
       "    <tr>\n",
       "      <th>8</th>\n",
       "      <td>at alarm manager tip showed car smoke fault</td>\n",
       "      <td>1</td>\n",
       "    </tr>\n",
       "    <tr>\n",
       "      <th>16</th>\n",
       "      <td>at alarm manager tip showed car smoke fault</td>\n",
       "      <td>1</td>\n",
       "    </tr>\n",
       "    <tr>\n",
       "      <th>22</th>\n",
       "      <td>snaprep xx pax reported fan working dsm informed</td>\n",
       "      <td>0</td>\n",
       "    </tr>\n",
       "    <tr>\n",
       "      <th>36</th>\n",
       "      <td>xx pax feedback aircon car ventilation major f...</td>\n",
       "      <td>0</td>\n",
       "    </tr>\n",
       "    <tr>\n",
       "      <th>57</th>\n",
       "      <td>xx driver reported car fire extinguisher panel...</td>\n",
       "      <td>0</td>\n",
       "    </tr>\n",
       "    <tr>\n",
       "      <th>...</th>\n",
       "      <td>...</td>\n",
       "      <td>...</td>\n",
       "    </tr>\n",
       "    <tr>\n",
       "      <th>35324</th>\n",
       "      <td>xx tip showed pec car unknown status console c...</td>\n",
       "      <td>0</td>\n",
       "    </tr>\n",
       "    <tr>\n",
       "      <th>35330</th>\n",
       "      <td>xx driver reported train proceeding slow speed...</td>\n",
       "      <td>1</td>\n",
       "    </tr>\n",
       "    <tr>\n",
       "      <th>35333</th>\n",
       "      <td>xx eea remote wakeup at alarm tip show car pro...</td>\n",
       "      <td>1</td>\n",
       "    </tr>\n",
       "    <tr>\n",
       "      <th>35334</th>\n",
       "      <td>xxperf at alarm indicated car propulsion equip...</td>\n",
       "      <td>1</td>\n",
       "    </tr>\n",
       "    <tr>\n",
       "      <th>35339</th>\n",
       "      <td>xx eec remote wakeup at alarm tip car air pres...</td>\n",
       "      <td>1</td>\n",
       "    </tr>\n",
       "  </tbody>\n",
       "</table>\n",
       "<p>9258 rows × 2 columns</p>\n",
       "</div>"
      ],
      "text/plain": [
       "                                  Service_Fault_Symptoms  Defect_Type\n",
       "8            at alarm manager tip showed car smoke fault            1\n",
       "16           at alarm manager tip showed car smoke fault            1\n",
       "22      snaprep xx pax reported fan working dsm informed            0\n",
       "36     xx pax feedback aircon car ventilation major f...            0\n",
       "57     xx driver reported car fire extinguisher panel...            0\n",
       "...                                                  ...          ...\n",
       "35324  xx tip showed pec car unknown status console c...            0\n",
       "35330  xx driver reported train proceeding slow speed...            1\n",
       "35333  xx eea remote wakeup at alarm tip show car pro...            1\n",
       "35334  xxperf at alarm indicated car propulsion equip...            1\n",
       "35339  xx eec remote wakeup at alarm tip car air pres...            1\n",
       "\n",
       "[9258 rows x 2 columns]"
      ]
     },
     "execution_count": 344,
     "metadata": {},
     "output_type": "execute_result"
    }
   ],
   "source": [
    "featuresNLP"
   ]
  },
  {
   "cell_type": "code",
   "execution_count": 345,
   "id": "534a4dfa",
   "metadata": {},
   "outputs": [],
   "source": [
    "#prepare data for ML modeling\n",
    "\n",
    "X = featuresNLP.Service_Fault_Symptoms\n",
    "y = featuresNLP.Defect_Type\n",
    "X_train, X_test, y_train, y_test = train_test_split(X, y, random_state=1)\n",
    "X_train_ft = vect.fit_transform(X_train)\n",
    "X_test_ft = vect.transform(X_test)"
   ]
  },
  {
   "cell_type": "code",
   "execution_count": 346,
   "id": "829f9ffe",
   "metadata": {},
   "outputs": [
    {
     "data": {
      "text/plain": [
       "0.9239740820734341"
      ]
     },
     "execution_count": 346,
     "metadata": {},
     "output_type": "execute_result"
    }
   ],
   "source": [
    "#using naives. improved by ~2.3%\n",
    "\n",
    "nb.fit(X_train_ft, y_train)\n",
    "y_pred_class = nb.predict(X_test_ft)\n",
    "metrics.accuracy_score(y_test, y_pred_class)"
   ]
  },
  {
   "cell_type": "code",
   "execution_count": 347,
   "id": "8209afa2",
   "metadata": {},
   "outputs": [
    {
     "name": "stderr",
     "output_type": "stream",
     "text": [
      "C:\\Users\\Darius\\anaconda3\\lib\\site-packages\\sklearn\\linear_model\\_logistic.py:763: ConvergenceWarning: lbfgs failed to converge (status=1):\n",
      "STOP: TOTAL NO. of ITERATIONS REACHED LIMIT.\n",
      "\n",
      "Increase the number of iterations (max_iter) or scale the data as shown in:\n",
      "    https://scikit-learn.org/stable/modules/preprocessing.html\n",
      "Please also refer to the documentation for alternative solver options:\n",
      "    https://scikit-learn.org/stable/modules/linear_model.html#logistic-regression\n",
      "  n_iter_i = _check_optimize_result(\n"
     ]
    },
    {
     "data": {
      "text/plain": [
       "0.9434125269978402"
      ]
     },
     "execution_count": 347,
     "metadata": {},
     "output_type": "execute_result"
    }
   ],
   "source": [
    "#using logisticregression. accuracy of the model reduced by 0.2%\n",
    "\n",
    "y_pred_class = lg.predict(X_test_ft)\n",
    "metrics.accuracy_score(y_test, y_pred_class)"
   ]
  },
  {
   "cell_type": "markdown",
   "id": "5ca785d6",
   "metadata": {},
   "source": [
    "## Conclusion\n",
    "\n",
    "Based on the accuracy provided, using NLP (improved by 2.3%) improves NB model but not LR model (reduced by 0.2%)."
   ]
  },
  {
   "cell_type": "code",
   "execution_count": null,
   "id": "06922ab8",
   "metadata": {},
   "outputs": [],
   "source": []
  }
 ],
 "metadata": {
  "kernelspec": {
   "display_name": "Python 3 (ipykernel)",
   "language": "python",
   "name": "python3"
  },
  "language_info": {
   "codemirror_mode": {
    "name": "ipython",
    "version": 3
   },
   "file_extension": ".py",
   "mimetype": "text/x-python",
   "name": "python",
   "nbconvert_exporter": "python",
   "pygments_lexer": "ipython3",
   "version": "3.9.7"
  }
 },
 "nbformat": 4,
 "nbformat_minor": 5
}
